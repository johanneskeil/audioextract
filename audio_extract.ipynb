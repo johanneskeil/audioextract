{
 "cells": [
  {
   "cell_type": "markdown",
   "id": "aeed6825-34e9-4a3c-8a66-2be01a54276c",
   "metadata": {
    "tags": []
   },
   "source": [
    "Imports"
   ]
  },
  {
   "cell_type": "code",
   "execution_count": 1,
   "id": "e51c3bd4-8c45-4289-b26d-32cbbba1c802",
   "metadata": {
    "tags": []
   },
   "outputs": [],
   "source": [
    "import subprocess\n",
    "import speech_recognition as sr\n",
    "import ffmpeg\n",
    "import wave"
   ]
  },
  {
   "cell_type": "markdown",
   "id": "620f43a2-afeb-4b85-a93e-4d1797be0969",
   "metadata": {},
   "source": [
    "in 'wav' umwandeln"
   ]
  },
  {
   "cell_type": "code",
   "execution_count": null,
   "id": "27d77232-64f2-48bc-b572-cb171c66da28",
   "metadata": {
    "tags": []
   },
   "outputs": [],
   "source": [
    "command = 'ffmpeg -i audio-input/BPO_14022023.mkv -ab 160k -ar 44100 -vn audio-output/test.wav'\n",
    "subprocess.call(command, shell=True)"
   ]
  },
  {
   "cell_type": "code",
   "execution_count": null,
   "id": "03d3373f-dfd4-4dac-b8f6-ec8897047a99",
   "metadata": {
    "tags": []
   },
   "outputs": [],
   "source": [
    "# times between which to extract the wave from\n",
    "\n",
    "for i in range(0, 8000, 200):\n",
    "    start = i # seconds\n",
    "    end = start + 200 # seconds\n",
    "\n",
    "# file to extract the snippet from\n",
    "    with wave.open('audio-output/test.wav', \"rb\") as infile:\n",
    "    # get file data\n",
    "        nchannels = infile.getnchannels()\n",
    "        sampwidth = infile.getsampwidth()\n",
    "        framerate = infile.getframerate()\n",
    "    # set position in wave to start of segment\n",
    "        infile.setpos(int(start * framerate))\n",
    "    # extract data\n",
    "        data = infile.readframes(int((end - start) * framerate))\n",
    "\n",
    "# write the extracted data to a new file\n",
    "    with wave.open('audio-output/Teil_file.wav', 'w') as outfile:\n",
    "        outfile.setnchannels(nchannels)\n",
    "        outfile.setsampwidth(sampwidth)\n",
    "        outfile.setframerate(framerate)\n",
    "        outfile.setnframes(int(len(data) / sampwidth))\n",
    "        outfile.writeframes(data)\n",
    "    \n",
    "        filename = \"audio-output/Teil_file.wav\"\n",
    "    speech_engine = sr.Recognizer()\n",
    "    with sr.AudioFile(filename) as f:\n",
    "        data = speech_engine.record(f)\n",
    "        text = speech_engine.recognize_google(data)\n",
    "        with open('output.txt', 'a') as f:\n",
    "            f.write(text + \"\\n\")"
   ]
  }
 ],
 "metadata": {
  "kernelspec": {
   "display_name": "Python 3 (ipykernel)",
   "language": "python",
   "name": "python3"
  },
  "language_info": {
   "codemirror_mode": {
    "name": "ipython",
    "version": 3
   },
   "file_extension": ".py",
   "mimetype": "text/x-python",
   "name": "python",
   "nbconvert_exporter": "python",
   "pygments_lexer": "ipython3",
   "version": "3.10.6"
  },
  "vscode": {
   "interpreter": {
    "hash": "916dbcbb3f70747c44a77c7bcd40155683ae19c65e1c03b4aa3499c5328201f1"
   }
  }
 },
 "nbformat": 4,
 "nbformat_minor": 5
}
