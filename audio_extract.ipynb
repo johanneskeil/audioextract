{
 "cells": [
  {
   "cell_type": "markdown",
   "id": "aeed6825-34e9-4a3c-8a66-2be01a54276c",
   "metadata": {
    "tags": []
   },
   "source": [
    "Imports"
   ]
  },
  {
   "cell_type": "code",
   "execution_count": 6,
   "id": "e51c3bd4-8c45-4289-b26d-32cbbba1c802",
   "metadata": {
    "tags": []
   },
   "outputs": [],
   "source": [
    "import subprocess\n",
    "import speech_recognition as sr\n",
    "import ffmpeg"
   ]
  },
  {
   "cell_type": "markdown",
   "id": "620f43a2-afeb-4b85-a93e-4d1797be0969",
   "metadata": {},
   "source": [
    "in 'wav' umwandeln"
   ]
  },
  {
   "cell_type": "code",
   "execution_count": null,
   "id": "27d77232-64f2-48bc-b572-cb171c66da28",
   "metadata": {
    "tags": []
   },
   "outputs": [],
   "source": [
    "command = 'ffmpeg -i audio-input/BPO_14022023.mkv -ab 160k -ar 44100 -vn audio-output/test.wav'\n",
    "subprocess.call(command, shell=True)"
   ]
  },
  {
   "cell_type": "code",
   "execution_count": 17,
   "id": "d764107b-20ee-4dc6-af9f-ee91361a4cdf",
   "metadata": {
    "tags": []
   },
   "outputs": [
    {
     "name": "stdout",
     "output_type": "stream",
     "text": [
      "result2:\n",
      "{   'alternative': [   {   'confidence': 0.92314428,\n",
      "                           'transcript': \"yes so difficult to wrap I'm off to \"\n",
      "                                         'pass through all that was a '\n",
      "                                         'graduation for the football team '\n",
      "                                         'coach has a watch that is a dime '\n",
      "                                         'prepared with fresh lemon sauce for '\n",
      "                                         \"dinner it's fun to roast \"\n",
      "                                         'marshmallows on a gas burner the '\n",
      "                                         'taxi car broke down and caused a '\n",
      "                                         'chance or gold bracelet graduation'},\n",
      "                       {   'transcript': \"yes so difficult to wrap I'm off to \"\n",
      "                                         'pass through all that was a '\n",
      "                                         'graduation for the football team '\n",
      "                                         'coach has a watched it is a dime '\n",
      "                                         'prepared with fresh lemon sauce for '\n",
      "                                         \"dinner it's fun to roast \"\n",
      "                                         'marshmallows on a gas burner the '\n",
      "                                         'taxi car broke down and caused a '\n",
      "                                         'chance or gold bracelet graduation'},\n",
      "                       {   'transcript': \"yes so difficult to rap I'm off to \"\n",
      "                                         'pass through all that was a '\n",
      "                                         'graduation for the football team '\n",
      "                                         'coach has a watched it is a dime '\n",
      "                                         'prepared with fresh lemon sauce for '\n",
      "                                         \"dinner it's fun to roast \"\n",
      "                                         'marshmallows on a gas for the taxi '\n",
      "                                         'car broke down and caused a chance '\n",
      "                                         'or gold bracelet graduation'},\n",
      "                       {   'transcript': \"yes so difficult to wrap I'm off to \"\n",
      "                                         'pass through all that was a '\n",
      "                                         'graduation for the football team '\n",
      "                                         'coach has a watched it is a dime '\n",
      "                                         'prepared with fresh lemon sauce for '\n",
      "                                         \"dinner it's fun to roast \"\n",
      "                                         'marshmallows on a gas burner the '\n",
      "                                         'taxi cab broke down and caused a '\n",
      "                                         'chance or gold bracelet graduation'},\n",
      "                       {   'transcript': \"yes so difficult to wrap I'm off to \"\n",
      "                                         'pass through all that was a '\n",
      "                                         'graduation for the football team '\n",
      "                                         'coach has a watch that is a dime '\n",
      "                                         'prepared with fresh lemon sauce for '\n",
      "                                         \"dinner it's fun to roast \"\n",
      "                                         'marshmallows on a gas for the taxi '\n",
      "                                         'car broke down and caused a chance '\n",
      "                                         'or gold bracelet graduation'}],\n",
      "    'final': True}\n",
      "yes so difficult to wrap I'm off to pass through all that was a graduation for the football team coach has a watch that is a dime prepared with fresh lemon sauce for dinner it's fun to roast marshmallows on a gas burner the taxi car broke down and caused a chance or gold bracelet graduation\n"
     ]
    }
   ],
   "source": [
    "filename = \"nsa_m3.wav\"\n",
    "speech_engine = sr.Recognizer()\n",
    "with sr.AudioFile(filename) as f:\n",
    "    data = speech_engine.record(f)\n",
    "    text = speech_engine.recognize_google(data)\n",
    "    print(text)\n",
    "    with open('output.txt', 'a') as f:\n",
    "        f.write(text)"
   ]
  },
  {
   "cell_type": "code",
   "execution_count": null,
   "id": "c8c756ea-5dac-4887-aeb4-3c6bdebde1d8",
   "metadata": {},
   "outputs": [],
   "source": []
  }
 ],
 "metadata": {
  "kernelspec": {
   "display_name": "Python 3 (ipykernel)",
   "language": "python",
   "name": "python3"
  },
  "language_info": {
   "codemirror_mode": {
    "name": "ipython",
    "version": 3
   },
   "file_extension": ".py",
   "mimetype": "text/x-python",
   "name": "python",
   "nbconvert_exporter": "python",
   "pygments_lexer": "ipython3",
   "version": "3.10.6"
  },
  "vscode": {
   "interpreter": {
    "hash": "916dbcbb3f70747c44a77c7bcd40155683ae19c65e1c03b4aa3499c5328201f1"
   }
  }
 },
 "nbformat": 4,
 "nbformat_minor": 5
}
