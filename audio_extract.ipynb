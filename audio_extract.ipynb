{
 "cells": [
  {
   "cell_type": "code",
   "execution_count": null,
   "id": "d623339c-6c5d-488a-bdcc-ccc2046493a0",
   "metadata": {},
   "outputs": [],
   "source": [
    "# https://jupyter.org/install\n",
    "# https://linuxize.com/post/how-to-create-python-virtual-environments-on-ubuntu-18-04/"
   ]
  },
  {
   "cell_type": "code",
   "execution_count": 4,
   "id": "2d91af8d-9f5a-4c91-b7bc-cda3554843b8",
   "metadata": {},
   "outputs": [
    {
     "name": "stdout",
     "output_type": "stream",
     "text": [
      "Requirement already satisfied: ffmpeg in ./venv/lib/python3.10/site-packages (1.4)\n"
     ]
    }
   ],
   "source": [
    "!pip install ffmpeg"
   ]
  },
  {
   "cell_type": "code",
   "execution_count": 7,
   "id": "e51c3bd4-8c45-4289-b26d-32cbbba1c802",
   "metadata": {},
   "outputs": [],
   "source": [
    "import subprocess\n",
    "from ibm_watson import SpeechToTextV1\n",
    "from ibm_watson.websocket import RecognizeCallback, AudioSource\n",
    "from ibm_cloud_sdk_core.authenticators import IAMAuthenticator\n",
    "\n",
    "import ffmpeg"
   ]
  },
  {
   "cell_type": "code",
   "execution_count": 8,
   "id": "27d77232-64f2-48bc-b572-cb171c66da28",
   "metadata": {},
   "outputs": [
    {
     "name": "stderr",
     "output_type": "stream",
     "text": [
      "/bin/sh: 1: ffmpeg: not found\n"
     ]
    },
    {
     "data": {
      "text/plain": [
       "127"
      ]
     },
     "execution_count": 8,
     "metadata": {},
     "output_type": "execute_result"
    }
   ],
   "source": [
    "command = 'ffmpeg -i 04_EWP_Digital_Officers_meeting_2022-20230110.mp4 -ab 160k -ar 44100 -vn test.wav'\n",
    "subprocess.call(command, shell=True)"
   ]
  }
 ],
 "metadata": {
  "kernelspec": {
   "display_name": "Python 3 (ipykernel)",
   "language": "python",
   "name": "python3"
  },
  "language_info": {
   "codemirror_mode": {
    "name": "ipython",
    "version": 3
   },
   "file_extension": ".py",
   "mimetype": "text/x-python",
   "name": "python",
   "nbconvert_exporter": "python",
   "pygments_lexer": "ipython3",
   "version": "3.10.6"
  }
 },
 "nbformat": 4,
 "nbformat_minor": 5
}
